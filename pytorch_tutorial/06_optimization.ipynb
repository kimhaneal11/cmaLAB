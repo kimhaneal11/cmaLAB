{
 "cells": [
  {
   "cell_type": "markdown",
   "metadata": {},
   "source": [
    "-training is iterative\n",
    "-guess -> calculate error -> collect error -> optimize using gradient descent"
   ]
  },
  {
   "cell_type": "code",
   "execution_count": 1,
   "metadata": {},
   "outputs": [
    {
     "name": "stdout",
     "output_type": "stream",
     "text": [
      "Downloading http://fashion-mnist.s3-website.eu-central-1.amazonaws.com/train-images-idx3-ubyte.gz\n",
      "Downloading http://fashion-mnist.s3-website.eu-central-1.amazonaws.com/train-images-idx3-ubyte.gz to data/FashionMNIST/raw/train-images-idx3-ubyte.gz\n"
     ]
    },
    {
     "name": "stderr",
     "output_type": "stream",
     "text": [
      "100%|██████████| 26421880/26421880 [01:02<00:00, 420961.21it/s] \n"
     ]
    },
    {
     "name": "stdout",
     "output_type": "stream",
     "text": [
      "Extracting data/FashionMNIST/raw/train-images-idx3-ubyte.gz to data/FashionMNIST/raw\n",
      "\n",
      "Downloading http://fashion-mnist.s3-website.eu-central-1.amazonaws.com/train-labels-idx1-ubyte.gz\n",
      "Downloading http://fashion-mnist.s3-website.eu-central-1.amazonaws.com/train-labels-idx1-ubyte.gz to data/FashionMNIST/raw/train-labels-idx1-ubyte.gz\n"
     ]
    },
    {
     "name": "stderr",
     "output_type": "stream",
     "text": [
      "100%|██████████| 29515/29515 [00:00<00:00, 102603.98it/s]\n"
     ]
    },
    {
     "name": "stdout",
     "output_type": "stream",
     "text": [
      "Extracting data/FashionMNIST/raw/train-labels-idx1-ubyte.gz to data/FashionMNIST/raw\n",
      "\n",
      "Downloading http://fashion-mnist.s3-website.eu-central-1.amazonaws.com/t10k-images-idx3-ubyte.gz\n",
      "Downloading http://fashion-mnist.s3-website.eu-central-1.amazonaws.com/t10k-images-idx3-ubyte.gz to data/FashionMNIST/raw/t10k-images-idx3-ubyte.gz\n"
     ]
    },
    {
     "name": "stderr",
     "output_type": "stream",
     "text": [
      "100%|██████████| 4422102/4422102 [00:13<00:00, 315947.04it/s]\n"
     ]
    },
    {
     "name": "stdout",
     "output_type": "stream",
     "text": [
      "Extracting data/FashionMNIST/raw/t10k-images-idx3-ubyte.gz to data/FashionMNIST/raw\n",
      "\n",
      "Downloading http://fashion-mnist.s3-website.eu-central-1.amazonaws.com/t10k-labels-idx1-ubyte.gz\n",
      "Downloading http://fashion-mnist.s3-website.eu-central-1.amazonaws.com/t10k-labels-idx1-ubyte.gz to data/FashionMNIST/raw/t10k-labels-idx1-ubyte.gz\n"
     ]
    },
    {
     "name": "stderr",
     "output_type": "stream",
     "text": [
      "100%|██████████| 5148/5148 [00:00<00:00, 8650752.00it/s]"
     ]
    },
    {
     "name": "stdout",
     "output_type": "stream",
     "text": [
      "Extracting data/FashionMNIST/raw/t10k-labels-idx1-ubyte.gz to data/FashionMNIST/raw\n",
      "\n"
     ]
    },
    {
     "name": "stderr",
     "output_type": "stream",
     "text": [
      "\n"
     ]
    }
   ],
   "source": [
    "import torch\n",
    "from torch import nn\n",
    "from torch.utils.data import DataLoader\n",
    "from torchvision import datasets\n",
    "from torchvision.transforms import ToTensor\n",
    "\n",
    "training_data = datasets.FashionMNIST(\n",
    "    root=\"data\",\n",
    "    train=True,\n",
    "    download=True,\n",
    "    transform=ToTensor()\n",
    ")\n",
    "\n",
    "test_data = datasets.FashionMNIST(\n",
    "    root=\"data\",\n",
    "    train=False,\n",
    "    download=True,\n",
    "    transform=ToTensor()\n",
    ")\n",
    "\n",
    "train_dataloader = DataLoader(training_data, batch_size=64)\n",
    "test_dataloader = DataLoader(test_data, batch_size=64)\n",
    "\n",
    "class NeuralNetwork(nn.Module):\n",
    "    def __init__(self):\n",
    "        super().__init__()\n",
    "        self.flatten = nn.Flatten()\n",
    "        self.linear_relu_stack = nn.Sequential(\n",
    "            nn.Linear(28*28, 512),\n",
    "            nn.ReLU(),\n",
    "            nn.Linear(512, 512),\n",
    "            nn.ReLU(),\n",
    "            nn.Linear(512, 10),\n",
    "        )\n",
    "\n",
    "    def forward(self, x):\n",
    "        x = self.flatten(x)\n",
    "        logits = self.linear_relu_stack(x)\n",
    "        return logits\n",
    "\n",
    "model = NeuralNetwork()"
   ]
  },
  {
   "cell_type": "markdown",
   "metadata": {},
   "source": [
    "#hyperparameter: adjustable parameter to control optimization\n",
    "-number of epochs: number times to iterate\n",
    "-batch size: number of data samples propagated before parameter update\n",
    "-learning rate: how much to update parameters at each batch/epoch(small-slow speed, large-unpredictable)"
   ]
  },
  {
   "cell_type": "code",
   "execution_count": 2,
   "metadata": {},
   "outputs": [],
   "source": [
    "learning_rate = 1e-3\n",
    "batch_size = 64\n",
    "epochs = 5"
   ]
  },
  {
   "cell_type": "markdown",
   "metadata": {},
   "source": [
    "#epoch: each iteration of optimization loop\n",
    "-train loop: iterate training dataset, try to converge to optimal parameter\n",
    "-validation/test loop: iterate test dataset to check perfomance improvement"
   ]
  },
  {
   "cell_type": "markdown",
   "metadata": {},
   "source": [
    "#loss function: measure degree of dissimilarity of result to target value. try to minimize\n",
    "-nn.MSELoss(mean square error) for regression\n",
    "-nn.NLLLoss(negative log likelihood) for classification\n",
    "-nn.CrossEntropyLoss(nn.LogSoftmax + nn.NLLLoss)"
   ]
  },
  {
   "cell_type": "code",
   "execution_count": 3,
   "metadata": {},
   "outputs": [],
   "source": [
    "loss_fn = nn.CrossEntropyLoss()"
   ]
  },
  {
   "cell_type": "markdown",
   "metadata": {},
   "source": [
    "-optimization logic is in optimizer object\n",
    "-SGD, ADAM, RMSProp"
   ]
  },
  {
   "cell_type": "code",
   "execution_count": 4,
   "metadata": {},
   "outputs": [],
   "source": [
    "optimizer = torch.optim.SGD(model.parameters(), lr=learning_rate)"
   ]
  },
  {
   "cell_type": "markdown",
   "metadata": {},
   "source": [
    "#optimization step\n",
    "-call optimizer.zero_grad() to reset gradients of parameters. default add up. prevent double-counting\n",
    "-backpropagate loss with loss.backward(). deposit gradients of loss\n",
    "-optimizer.step() to adjust parameters by gradients"
   ]
  },
  {
   "cell_type": "code",
   "execution_count": 8,
   "metadata": {},
   "outputs": [],
   "source": [
    "def train_loop(dataloader, model, loss_fn, optimizer):\n",
    "    size = len(dataloader.dataset)\n",
    "    model.train()\n",
    "    for batch, (X, y) in enumerate(dataloader):\n",
    "        #compute prediction and loss\n",
    "        pred = model(X)\n",
    "        loss = loss_fn(pred, y)\n",
    "\n",
    "        #backpropagation\n",
    "        loss.backward()\n",
    "        optimizer.step()\n",
    "        optimizer.zero_grad()\n",
    "\n",
    "        if batch % 100 == 0:\n",
    "            loss, current = loss.item(), (batch + 1) * len(X)\n",
    "            print(f\"loss: {loss:>7f} [{current:>5d}/{size:>5d}]\")"
   ]
  },
  {
   "cell_type": "code",
   "execution_count": 6,
   "metadata": {},
   "outputs": [],
   "source": [
    "def test_loop(dataloader, model, loss_fn):\n",
    "    #set model to evaluation model\n",
    "    model.eval()\n",
    "    size = len(dataloader.dataset)\n",
    "    num_batches = len(dataloader)\n",
    "    test_loss, correct = 0, 0\n",
    "\n",
    "    #evaluting with torch.no_grad() ensures no gradients are computed\n",
    "    # + reduce unnecessary gradient computations and memory usage for tensors with requires_grad=True\n",
    "    with torch.no_grad():\n",
    "        for X, y in dataloader:\n",
    "            pred = model(X)\n",
    "            test_loss += loss_fn(pred, y).item()\n",
    "            correct += (pred.argmax(1) == y).type(torch.float).sum().item()\n",
    "    \n",
    "    test_loss /= num_batches\n",
    "    correct /= size\n",
    "    print(f\"Test Error: \\n Accuracy: {(100*correct):>0.1f}%, Avg loss: {test_loss:>8f} \\n\")"
   ]
  },
  {
   "cell_type": "code",
   "execution_count": 9,
   "metadata": {},
   "outputs": [
    {
     "name": "stdout",
     "output_type": "stream",
     "text": [
      "Epoch 1\n",
      "-------------------\n",
      "loss: 2.306038 [   64/60000]\n",
      "loss: 2.293473 [ 6464/60000]\n",
      "loss: 2.275476 [12864/60000]\n",
      "loss: 2.271276 [19264/60000]\n",
      "loss: 2.264346 [25664/60000]\n",
      "loss: 2.228623 [32064/60000]\n",
      "loss: 2.240273 [38464/60000]\n",
      "loss: 2.203691 [44864/60000]\n",
      "loss: 2.197651 [51264/60000]\n",
      "loss: 2.168291 [57664/60000]\n",
      "Test Error: \n",
      " Accuracy: 51.2%, Avg loss: 2.167592 \n",
      "\n",
      "Epoch 2\n",
      "-------------------\n",
      "loss: 2.177039 [   64/60000]\n",
      "loss: 2.168090 [ 6464/60000]\n",
      "loss: 2.114296 [12864/60000]\n",
      "loss: 2.130540 [19264/60000]\n",
      "loss: 2.084133 [25664/60000]\n",
      "loss: 2.025871 [32064/60000]\n",
      "loss: 2.052601 [38464/60000]\n",
      "loss: 1.973790 [44864/60000]\n",
      "loss: 1.975776 [51264/60000]\n",
      "loss: 1.901736 [57664/60000]\n",
      "Test Error: \n",
      " Accuracy: 55.9%, Avg loss: 1.908343 \n",
      "\n",
      "Epoch 3\n",
      "-------------------\n",
      "loss: 1.942655 [   64/60000]\n",
      "loss: 1.913241 [ 6464/60000]\n",
      "loss: 1.799619 [12864/60000]\n",
      "loss: 1.836529 [19264/60000]\n",
      "loss: 1.733528 [25664/60000]\n",
      "loss: 1.683345 [32064/60000]\n",
      "loss: 1.701296 [38464/60000]\n",
      "loss: 1.599881 [44864/60000]\n",
      "loss: 1.623524 [51264/60000]\n",
      "loss: 1.513856 [57664/60000]\n",
      "Test Error: \n",
      " Accuracy: 58.2%, Avg loss: 1.540796 \n",
      "\n",
      "Epoch 4\n",
      "-------------------\n",
      "loss: 1.613387 [   64/60000]\n",
      "loss: 1.576012 [ 6464/60000]\n",
      "loss: 1.425540 [12864/60000]\n",
      "loss: 1.491974 [19264/60000]\n",
      "loss: 1.381745 [25664/60000]\n",
      "loss: 1.374740 [32064/60000]\n",
      "loss: 1.386884 [38464/60000]\n",
      "loss: 1.305656 [44864/60000]\n",
      "loss: 1.341692 [51264/60000]\n",
      "loss: 1.243481 [57664/60000]\n",
      "Test Error: \n",
      " Accuracy: 62.0%, Avg loss: 1.273545 \n",
      "\n",
      "Epoch 5\n",
      "-------------------\n",
      "loss: 1.356119 [   64/60000]\n",
      "loss: 1.335724 [ 6464/60000]\n",
      "loss: 1.166273 [12864/60000]\n",
      "loss: 1.270180 [19264/60000]\n",
      "loss: 1.148949 [25664/60000]\n",
      "loss: 1.173975 [32064/60000]\n",
      "loss: 1.195486 [38464/60000]\n",
      "loss: 1.124400 [44864/60000]\n",
      "loss: 1.163856 [51264/60000]\n",
      "loss: 1.085398 [57664/60000]\n",
      "Test Error: \n",
      " Accuracy: 64.2%, Avg loss: 1.107481 \n",
      "\n",
      "Epoch 6\n",
      "-------------------\n",
      "loss: 1.183165 [   64/60000]\n",
      "loss: 1.183214 [ 6464/60000]\n",
      "loss: 0.995804 [12864/60000]\n",
      "loss: 1.131472 [19264/60000]\n",
      "loss: 1.002140 [25664/60000]\n",
      "loss: 1.037694 [32064/60000]\n",
      "loss: 1.075783 [38464/60000]\n",
      "loss: 1.008701 [44864/60000]\n",
      "loss: 1.047277 [51264/60000]\n",
      "loss: 0.984841 [57664/60000]\n",
      "Test Error: \n",
      " Accuracy: 65.6%, Avg loss: 0.999052 \n",
      "\n",
      "Epoch 7\n",
      "-------------------\n",
      "loss: 1.062191 [   64/60000]\n",
      "loss: 1.083096 [ 6464/60000]\n",
      "loss: 0.878319 [12864/60000]\n",
      "loss: 1.037688 [19264/60000]\n",
      "loss: 0.907344 [25664/60000]\n",
      "loss: 0.939352 [32064/60000]\n",
      "loss: 0.996033 [38464/60000]\n",
      "loss: 0.931827 [44864/60000]\n",
      "loss: 0.965326 [51264/60000]\n",
      "loss: 0.916283 [57664/60000]\n",
      "Test Error: \n",
      " Accuracy: 67.0%, Avg loss: 0.924043 \n",
      "\n",
      "Epoch 8\n",
      "-------------------\n",
      "loss: 0.971668 [   64/60000]\n",
      "loss: 1.012401 [ 6464/60000]\n",
      "loss: 0.793438 [12864/60000]\n",
      "loss: 0.970141 [19264/60000]\n",
      "loss: 0.842855 [25664/60000]\n",
      "loss: 0.865469 [32064/60000]\n",
      "loss: 0.938788 [38464/60000]\n",
      "loss: 0.879389 [44864/60000]\n",
      "loss: 0.905364 [51264/60000]\n",
      "loss: 0.866462 [57664/60000]\n",
      "Test Error: \n",
      " Accuracy: 68.2%, Avg loss: 0.869337 \n",
      "\n",
      "Epoch 9\n",
      "-------------------\n",
      "loss: 0.900907 [   64/60000]\n",
      "loss: 0.958764 [ 6464/60000]\n",
      "loss: 0.729539 [12864/60000]\n",
      "loss: 0.919064 [19264/60000]\n",
      "loss: 0.796734 [25664/60000]\n",
      "loss: 0.808936 [32064/60000]\n",
      "loss: 0.895239 [38464/60000]\n",
      "loss: 0.842425 [44864/60000]\n",
      "loss: 0.860144 [51264/60000]\n",
      "loss: 0.828265 [57664/60000]\n",
      "Test Error: \n",
      " Accuracy: 69.5%, Avg loss: 0.827624 \n",
      "\n",
      "Epoch 10\n",
      "-------------------\n",
      "loss: 0.843685 [   64/60000]\n",
      "loss: 0.915490 [ 6464/60000]\n",
      "loss: 0.679713 [12864/60000]\n",
      "loss: 0.879110 [19264/60000]\n",
      "loss: 0.762100 [25664/60000]\n",
      "loss: 0.764842 [32064/60000]\n",
      "loss: 0.859991 [38464/60000]\n",
      "loss: 0.815068 [44864/60000]\n",
      "loss: 0.825092 [51264/60000]\n",
      "loss: 0.797510 [57664/60000]\n",
      "Test Error: \n",
      " Accuracy: 70.7%, Avg loss: 0.794428 \n",
      "\n",
      "Done!\n"
     ]
    }
   ],
   "source": [
    "loss_fn = nn.CrossEntropyLoss()\n",
    "optimizer = torch.optim.SGD(model.parameters(), lr=learning_rate)\n",
    "\n",
    "epochs = 10\n",
    "for t in range(epochs):\n",
    "    print(f\"Epoch {t+1}\\n-------------------\")\n",
    "    train_loop(train_dataloader, model, loss_fn, optimizer)\n",
    "    test_loop(test_dataloader, model, loss_fn)\n",
    "print(\"Done!\")"
   ]
  }
 ],
 "metadata": {
  "kernelspec": {
   "display_name": "Python 3",
   "language": "python",
   "name": "python3"
  },
  "language_info": {
   "codemirror_mode": {
    "name": "ipython",
    "version": 3
   },
   "file_extension": ".py",
   "mimetype": "text/x-python",
   "name": "python",
   "nbconvert_exporter": "python",
   "pygments_lexer": "ipython3",
   "version": "3.10.12"
  }
 },
 "nbformat": 4,
 "nbformat_minor": 2
}
